{
 "cells": [
  {
   "cell_type": "markdown",
   "id": "90a95ebf",
   "metadata": {},
   "source": [
    "# read TESS to ecsv file\n",
    "<pre>\n",
    "Reads TESS-W IDA-IAU file and adds Moon and Sun information\n",
    "Creates an ecsv file\n",
    "Jaime Zamorano (UCM)\n",
    "v1.1 2023/06/11  + Sun altitude column \n",
    "</pre>"
   ]
  },
  {
   "cell_type": "code",
   "execution_count": 1,
   "id": "b4ffa3da",
   "metadata": {},
   "outputs": [],
   "source": [
    "# Necessary packages\n",
    "\n",
    "import matplotlib.pyplot as plt\n",
    "import numpy as np\n",
    "from datetime import datetime,timedelta\n",
    "\n",
    "# Astropy\n",
    "from astropy.time import Time\n",
    "from astropy.table import QTable, Table, Column, vstack\n",
    "from astropy.io import ascii\n",
    "import astropy.units as u\n",
    "import astropy.coordinates as ac\n",
    "from astropy.coordinates import SkyCoord, EarthLocation, AltAz\n",
    "from astroplan import Observer"
   ]
  },
  {
   "cell_type": "code",
   "execution_count": 2,
   "id": "aeb9f91b",
   "metadata": {},
   "outputs": [],
   "source": [
    "# just testing with one ecsv file\n",
    "filename = 'stars1_2022-05.dat'"
   ]
  },
  {
   "cell_type": "code",
   "execution_count": 3,
   "id": "e3cdb652",
   "metadata": {},
   "outputs": [],
   "source": [
    "# creating the astropy Table\n",
    "t = Table()"
   ]
  },
  {
   "cell_type": "code",
   "execution_count": 4,
   "id": "eca853f1",
   "metadata": {},
   "outputs": [],
   "source": [
    "# reading data to Table\n",
    "t = ascii.read(filename,delimiter=';',names=['date_UT','date_local', 'T_internal', 'T_Sky', 'Frequency', 'magnitude', 'ZP'])"
   ]
  },
  {
   "cell_type": "code",
   "execution_count": 5,
   "id": "0d5ced2b",
   "metadata": {},
   "outputs": [
    {
     "data": {
      "text/html": [
       "<i>Table length=5</i>\n",
       "<table id=\"table140450444907792\" class=\"table-striped table-bordered table-condensed\">\n",
       "<thead><tr><th>date_UT</th><th>date_local</th><th>T_internal</th><th>T_Sky</th><th>Frequency</th><th>magnitude</th><th>ZP</th></tr></thead>\n",
       "<thead><tr><th>str23</th><th>str23</th><th>float64</th><th>float64</th><th>float64</th><th>float64</th><th>float64</th></tr></thead>\n",
       "<tr><td>2022-05-01T00:00:31.000</td><td>2022-05-01T02:00:31.000</td><td>18.5</td><td>4.1</td><td>43.95</td><td>15.99</td><td>20.1</td></tr>\n",
       "<tr><td>2022-05-01T00:01:01.000</td><td>2022-05-01T02:01:01.000</td><td>18.5</td><td>4.0</td><td>38.8</td><td>16.13</td><td>20.1</td></tr>\n",
       "<tr><td>2022-05-01T00:01:31.000</td><td>2022-05-01T02:01:31.000</td><td>18.5</td><td>3.9</td><td>33.04</td><td>16.3</td><td>20.1</td></tr>\n",
       "<tr><td>2022-05-01T00:02:01.000</td><td>2022-05-01T02:02:01.000</td><td>18.5</td><td>3.9</td><td>30.16</td><td>16.4</td><td>20.1</td></tr>\n",
       "<tr><td>2022-05-01T00:02:31.000</td><td>2022-05-01T02:02:31.000</td><td>18.5</td><td>3.8</td><td>27.87</td><td>16.49</td><td>20.1</td></tr>\n",
       "</table>"
      ],
      "text/plain": [
       "<Table length=5>\n",
       "        date_UT                date_local       T_internal ... magnitude    ZP  \n",
       "         str23                   str23           float64   ...  float64  float64\n",
       "----------------------- ----------------------- ---------- ... --------- -------\n",
       "2022-05-01T00:00:31.000 2022-05-01T02:00:31.000       18.5 ...     15.99    20.1\n",
       "2022-05-01T00:01:01.000 2022-05-01T02:01:01.000       18.5 ...     16.13    20.1\n",
       "2022-05-01T00:01:31.000 2022-05-01T02:01:31.000       18.5 ...      16.3    20.1\n",
       "2022-05-01T00:02:01.000 2022-05-01T02:02:01.000       18.5 ...      16.4    20.1\n",
       "2022-05-01T00:02:31.000 2022-05-01T02:02:31.000       18.5 ...     16.49    20.1"
      ]
     },
     "execution_count": 5,
     "metadata": {},
     "output_type": "execute_result"
    }
   ],
   "source": [
    "t[0:5]"
   ]
  },
  {
   "cell_type": "code",
   "execution_count": 6,
   "id": "086d1efd",
   "metadata": {},
   "outputs": [
    {
     "data": {
      "text/plain": [
       "['Definition of the community standard for skyglow observations 1.0',\n",
       " 'URL: http://www.darksky.org/NSBM/sdf1.0.pdf',\n",
       " 'Number of header lines: 35',\n",
       " 'This data is released under the following license: ODbL 1.0 http://opendatacommons.org/licenses/odbl/summary/',\n",
       " 'Device type: TESS-W',\n",
       " 'Instrument ID: stars1',\n",
       " 'Data supplier: Cristóbal García / AstroHenares',\n",
       " 'Location name: Coslada/Madrid/Spain - Laboratorio de Cristóbal',\n",
       " 'Position: 40.424604, -3.558091, 626.0',\n",
       " 'Local timezone: Europe/Madrid',\n",
       " 'Time Synchronization: timestamp added by MQTT subscriber',\n",
       " 'Moving / Stationary position: STATIONARY',\n",
       " 'Moving / Fixed look direction: FIXED',\n",
       " 'Number of channels: 1',\n",
       " 'Filters per channel: BG39',\n",
       " 'Measurement direction per channel: 0.0, 0.0',\n",
       " 'Field of view: 17.0',\n",
       " 'Number of fields per line: 7',\n",
       " 'TESS MAC address: 18:FE:34:CF:E9:5A',\n",
       " 'TESS firmware version: 1.0',\n",
       " 'TESS cover offset value: 0.0',\n",
       " 'TESS zero point: 20.1',\n",
       " 'Comment:',\n",
       " 'Comment:',\n",
       " 'Comment:',\n",
       " 'Comment:',\n",
       " 'Comment:',\n",
       " 'Comment:',\n",
       " 'Comment: MSAS = ZP - 2.5*log10(Frequency)',\n",
       " 'blank line 30',\n",
       " 'blank line 31',\n",
       " 'blank line 32',\n",
       " 'UTC Date & Time, Local Date & Time, Enclosure Temperature, Sky Temperature, Frequency, MSAS, ZP',\n",
       " 'YYYY-MM-DDTHH:mm:ss.fff;YYYY-MM-DDTHH:mm:ss.fff;Celsius;Celsius;Hz;mag/arcsec^2;mag/arcsec^2',\n",
       " 'END OF HEADER']"
      ]
     },
     "execution_count": 6,
     "metadata": {},
     "output_type": "execute_result"
    }
   ],
   "source": [
    "# astropy.io  ascii reads header and stores as metadata\n",
    "t.meta['comments']"
   ]
  },
  {
   "cell_type": "code",
   "execution_count": 7,
   "id": "81f2fa5f",
   "metadata": {},
   "outputs": [
    {
     "data": {
      "text/plain": [
       "'UTC Date & Time, Local Date & Time, Enclosure Temperature, Sky Temperature, Frequency, MSAS, ZP'"
      ]
     },
     "execution_count": 7,
     "metadata": {},
     "output_type": "execute_result"
    }
   ],
   "source": [
    "# Information of name of data columns\n",
    "t.meta['comments'][-3]"
   ]
  },
  {
   "cell_type": "code",
   "execution_count": 8,
   "id": "d4a40729",
   "metadata": {},
   "outputs": [
    {
     "data": {
      "text/plain": [
       "'Instrument ID: stars1'"
      ]
     },
     "execution_count": 8,
     "metadata": {},
     "output_type": "execute_result"
    }
   ],
   "source": [
    "# Information of name of photometer\n",
    "t.meta['comments'][5]"
   ]
  },
  {
   "cell_type": "code",
   "execution_count": 9,
   "id": "ac89975a",
   "metadata": {},
   "outputs": [
    {
     "data": {
      "text/plain": [
       "'Position: 40.424604, -3.558091, 626.0'"
      ]
     },
     "execution_count": 9,
     "metadata": {},
     "output_type": "execute_result"
    }
   ],
   "source": [
    "# Position information \n",
    "t.meta['comments'][8]"
   ]
  },
  {
   "cell_type": "markdown",
   "id": "930c9dbf",
   "metadata": {},
   "source": [
    "#### Extracting useful information from header"
   ]
  },
  {
   "cell_type": "code",
   "execution_count": 10,
   "id": "af0f0aa8",
   "metadata": {},
   "outputs": [
    {
     "name": "stdout",
     "output_type": "stream",
     "text": [
      "             key                                    val                      \n",
      "----------------------------- -----------------------------------------------\n",
      "                Instrument ID                                          stars1\n",
      "                Data supplier                 Cristóbal García / AstroHenares\n",
      "                Location name Coslada/Madrid/Spain - Laboratorio de Cristóbal\n",
      "                     Position                     40.424604, -3.558091, 626.0\n",
      "               Local timezone                                   Europe/Madrid\n",
      "         Time Synchronization              timestamp added by MQTT subscriber\n",
      " Moving / Stationary position                                      STATIONARY\n",
      "Moving / Fixed look direction                                           FIXED\n",
      "           Number of channels                                               1\n",
      "          Filters per channel                                            BG39\n"
     ]
    }
   ],
   "source": [
    "# Tengo que saltar las primeras lineas de comentarios en el header\n",
    "# problemas al llegar a  'TESS MAC address: 98:F4:AB:B2:7B:BF'\n",
    "# que tiene muchos ':' por eso paro en línea 18\n",
    "# En el caso de stars1 Coslada paro en 15 porque\n",
    "# 'Measurement direction per channel: 0.0, 0.0',  da fallo\n",
    "header = ascii.read(t.meta['comments'][5:15], delimiter=':',\n",
    "                    format='no_header', names=['key', 'val'])\n",
    "print(header)"
   ]
  },
  {
   "cell_type": "code",
   "execution_count": 11,
   "id": "c764e0c9",
   "metadata": {},
   "outputs": [
    {
     "name": "stdout",
     "output_type": "stream",
     "text": [
      "photometer: stars1      coordinates: 40.424604  -3.558091\n"
     ]
    }
   ],
   "source": [
    "photometer = header[0]['val']\n",
    "latitude   = header[3]['val'].split(',')[0] #* u.deg\n",
    "longitude  = header[3]['val'].split(',')[1] #* u.deg\n",
    "height     = header[3]['val'].split(',')[2] #* u.m\n",
    "print('photometer:', photometer , '     coordinates:',latitude , longitude)"
   ]
  },
  {
   "cell_type": "markdown",
   "id": "bc9f1165",
   "metadata": {},
   "source": [
    "#### Setting location for astronomical calculatios"
   ]
  },
  {
   "cell_type": "code",
   "execution_count": 12,
   "id": "fe554b13",
   "metadata": {},
   "outputs": [
    {
     "name": "stdout",
     "output_type": "stream",
     "text": [
      "datetime     : 2022-05-01T00:51:04.000\n",
      "astropy Time : 2022-05-01T00:51:04.000 dtype = object\n",
      "class = Time\n",
      "n_bad = 0\n",
      "\n"
     ]
    }
   ],
   "source": [
    "location = ac.EarthLocation(lat=latitude,lon=longitude,height=height)\n",
    "# Example of time in astropy Time system \n",
    "date_obs = t['date_UT'][100]\n",
    "obs_time = Time(date_obs,scale='utc',location=location)  \n",
    "print('datetime     :',date_obs)\n",
    "print('astropy Time :',obs_time,obs_time.info)"
   ]
  },
  {
   "cell_type": "code",
   "execution_count": 13,
   "id": "f9f100ba",
   "metadata": {},
   "outputs": [],
   "source": [
    "# name of the observer site is not needed\n",
    "observer = Observer(name='Coslada',location=location)"
   ]
  },
  {
   "cell_type": "markdown",
   "id": "8d9f90ef",
   "metadata": {},
   "source": [
    "#### Ephemeris for Moon and Sun"
   ]
  },
  {
   "cell_type": "code",
   "execution_count": 14,
   "id": "d42ea3ee",
   "metadata": {},
   "outputs": [
    {
     "name": "stdout",
     "output_type": "stream",
     "text": [
      "Moon rise JD: 2459700.7353903386 for  2022-05-01T00:51:04.000\n",
      "Moon rise JD: 2459700.7353903386 for  2022-05-01T00:51:04.000\n",
      "Moon rise   : 2022-05-01 05:38:57.725253 for  2022-05-01T00:51:04.000\n",
      "Moon set    : 2022-04-30 18:52:27.509703 for  2022-05-01T00:51:04.000\n"
     ]
    }
   ],
   "source": [
    "# Example of calculation using location and time\n",
    "moon_rise = observer.moon_rise_time(obs_time)\n",
    "print('Moon rise JD:',moon_rise,'for ',obs_time)\n",
    "# You can use Time or datetime as input\n",
    "moon_rise = observer.moon_rise_time(date_obs)\n",
    "moon_set  = observer.moon_set_time(date_obs)\n",
    "print('Moon rise JD:',moon_rise,'for ',date_obs)\n",
    "print('Moon rise   :',moon_rise.datetime,'for ',date_obs)\n",
    "print('Moon set    :',moon_set.datetime,'for ',date_obs)"
   ]
  },
  {
   "cell_type": "code",
   "execution_count": 15,
   "id": "47529d1a",
   "metadata": {},
   "outputs": [
    {
     "data": {
      "text/plain": [
       "datetime.datetime(2022, 5, 1, 5, 38, 57, 725253, tzinfo=<UTC>)"
      ]
     },
     "execution_count": 15,
     "metadata": {},
     "output_type": "execute_result"
    }
   ],
   "source": [
    "# another method to convert to datetime\n",
    "observer.astropy_time_to_datetime(moon_rise)"
   ]
  },
  {
   "cell_type": "code",
   "execution_count": 16,
   "id": "7461b419",
   "metadata": {},
   "outputs": [
    {
     "name": "stdout",
     "output_type": "stream",
     "text": [
      "Moon altitude -35d04m19.0903s\n",
      "Moon azimut   8d52m58.8462s\n",
      "Moon phase    0.9873720898157644\n",
      "Sun altitude  -33d47m56.5761s\n"
     ]
    },
    {
     "data": {
      "text/latex": [
       "$-33^\\circ47{}^\\prime56.5761{}^{\\prime\\prime}$"
      ],
      "text/plain": [
       "<Latitude -33.79904891 deg>"
      ]
     },
     "execution_count": 16,
     "metadata": {},
     "output_type": "execute_result"
    }
   ],
   "source": [
    "# Moon position in the sky\n",
    "print('Moon altitude',observer.moon_altaz(obs_time).alt)\n",
    "print('Moon azimut  ',observer.moon_altaz(obs_time).az)\n",
    "print('Moon phase   ',observer.moon_phase(obs_time) /(np.pi * u.rad))    # 0 new  1 full\n",
    "print('Sun altitude ',observer.sun_altaz(obs_time).alt)\n",
    "observer.sun_altaz(obs_time).alt"
   ]
  },
  {
   "cell_type": "code",
   "execution_count": 17,
   "id": "40564190",
   "metadata": {},
   "outputs": [
    {
     "name": "stdout",
     "output_type": "stream",
     "text": [
      "<Table length=37822>\n",
      "   name     dtype \n",
      "---------- -------\n",
      "   date_UT   str23\n",
      "date_local   str23\n",
      "T_internal float64\n",
      "     T_Sky float64\n",
      " Frequency float64\n",
      " magnitude float64\n",
      "        ZP float64\n"
     ]
    }
   ],
   "source": [
    "t.info()"
   ]
  },
  {
   "cell_type": "code",
   "execution_count": 18,
   "id": "09f1f670",
   "metadata": {},
   "outputs": [
    {
     "data": {
      "text/plain": [
       "37822"
      ]
     },
     "execution_count": 18,
     "metadata": {},
     "output_type": "execute_result"
    }
   ],
   "source": [
    "len(t)"
   ]
  },
  {
   "cell_type": "code",
   "execution_count": 19,
   "id": "1fab3248",
   "metadata": {},
   "outputs": [],
   "source": [
    "# new column with Julian Date\n",
    "t['jd'] = Time(t['date_UT'],scale='utc',location=location).jd"
   ]
  },
  {
   "cell_type": "code",
   "execution_count": 20,
   "id": "f213339e",
   "metadata": {},
   "outputs": [],
   "source": [
    "# new column with object astropy Time \n",
    "t['Time'] = Time(t['date_UT'],scale='utc',location=location)"
   ]
  },
  {
   "cell_type": "code",
   "execution_count": 21,
   "id": "a4c5562c",
   "metadata": {},
   "outputs": [],
   "source": [
    "# new columns with Moon altitude and phase\n",
    "t['moon_alt']   = observer.moon_altaz(t['Time']).alt.deg\n",
    "t['moon_phase'] = observer.moon_phase(t['Time']) /(np.pi * u.rad)"
   ]
  },
  {
   "cell_type": "code",
   "execution_count": 22,
   "id": "04025035",
   "metadata": {},
   "outputs": [],
   "source": [
    "# new column with Sun altitude \n",
    "t['sun_alt']   = observer.sun_altaz(t['Time']).alt.deg"
   ]
  },
  {
   "cell_type": "code",
   "execution_count": 23,
   "id": "afd4edab",
   "metadata": {},
   "outputs": [
    {
     "data": {
      "text/html": [
       "<i>Table length=5</i>\n",
       "<table id=\"table140450444889936\" class=\"table-striped table-bordered table-condensed\">\n",
       "<thead><tr><th>date_UT</th><th>date_local</th><th>T_internal</th><th>T_Sky</th><th>Frequency</th><th>magnitude</th><th>ZP</th><th>jd</th><th>Time</th><th>moon_alt</th><th>moon_phase</th><th>sun_alt</th></tr></thead>\n",
       "<thead><tr><th></th><th></th><th></th><th></th><th></th><th></th><th></th><th></th><th></th><th></th><th></th><th></th></tr></thead>\n",
       "<thead><tr><th>str23</th><th>str23</th><th>float64</th><th>float64</th><th>float64</th><th>float64</th><th>float64</th><th>float64</th><th>object</th><th>float64</th><th>float64</th><th>float64</th></tr></thead>\n",
       "<tr><td>2022-05-01T00:00:31.000</td><td>2022-05-01T02:00:31.000</td><td>18.5</td><td>4.1</td><td>43.95</td><td>15.99</td><td>20.1</td><td>2459700.500358796</td><td>2022-05-01T00:00:31.000</td><td>-35.51326315063141</td><td>0.9892756162259293</td><td>-34.51276139609294</td></tr>\n",
       "<tr><td>2022-05-01T00:01:01.000</td><td>2022-05-01T02:01:01.000</td><td>18.5</td><td>4.0</td><td>38.8</td><td>16.13</td><td>20.1</td><td>2459700.5007060184</td><td>2022-05-01T00:01:01.000</td><td>-35.52027304901654</td><td>0.9892574092415708</td><td>-34.517832190262354</td></tr>\n",
       "<tr><td>2022-05-01T00:01:31.000</td><td>2022-05-01T02:01:31.000</td><td>18.5</td><td>3.9</td><td>33.04</td><td>16.3</td><td>20.1</td><td>2459700.5010532406</td><td>2022-05-01T00:01:31.000</td><td>-35.52705624980562</td><td>0.9892391877068188</td><td>-34.52266012930278</td></tr>\n",
       "<tr><td>2022-05-01T00:02:01.000</td><td>2022-05-01T02:02:01.000</td><td>18.5</td><td>3.9</td><td>30.16</td><td>16.4</td><td>20.1</td><td>2459700.501400463</td><td>2022-05-01T00:02:01.000</td><td>-35.53361266440513</td><td>0.9892209516871773</td><td>-34.527245147902065</td></tr>\n",
       "<tr><td>2022-05-01T00:02:31.000</td><td>2022-05-01T02:02:31.000</td><td>18.5</td><td>3.8</td><td>27.87</td><td>16.49</td><td>20.1</td><td>2459700.501747685</td><td>2022-05-01T00:02:31.000</td><td>-35.53994220890166</td><td>0.9892027012663284</td><td>-34.53158718400306</td></tr>\n",
       "</table>"
      ],
      "text/plain": [
       "<Table length=5>\n",
       "        date_UT                date_local       ...       sun_alt      \n",
       "                                                ...                    \n",
       "         str23                   str23          ...       float64      \n",
       "----------------------- ----------------------- ... -------------------\n",
       "2022-05-01T00:00:31.000 2022-05-01T02:00:31.000 ...  -34.51276139609294\n",
       "2022-05-01T00:01:01.000 2022-05-01T02:01:01.000 ... -34.517832190262354\n",
       "2022-05-01T00:01:31.000 2022-05-01T02:01:31.000 ...  -34.52266012930278\n",
       "2022-05-01T00:02:01.000 2022-05-01T02:02:01.000 ... -34.527245147902065\n",
       "2022-05-01T00:02:31.000 2022-05-01T02:02:31.000 ...  -34.53158718400306"
      ]
     },
     "execution_count": 23,
     "metadata": {},
     "output_type": "execute_result"
    }
   ],
   "source": [
    "t[0:5]"
   ]
  },
  {
   "cell_type": "code",
   "execution_count": 28,
   "id": "76111d13",
   "metadata": {},
   "outputs": [
    {
     "data": {
      "text/plain": [
       "[<matplotlib.lines.Line2D at 0x7fbd12fa3610>]"
      ]
     },
     "execution_count": 28,
     "metadata": {},
     "output_type": "execute_result"
    },
    {
     "data": {
      "image/png": "[encoded data removed]",
      "text/plain": [
       "<Figure size 864x432 with 1 Axes>"
      ]
     },
     "metadata": {
      "needs_background": "light"
     },
     "output_type": "display_data"
    }
   ],
   "source": [
    "figura = plt.figure(figsize=(12, 6))\n",
    "ax1=figura.add_subplot(111)\n",
    "\n",
    "plt.plot(t['jd'],t['sun_alt'],'bo',ms=1)\n",
    "plt.plot(t['jd'],t['moon_alt'],'ro',ms=1)"
   ]
  },
  {
   "cell_type": "code",
   "execution_count": 25,
   "id": "523dab46",
   "metadata": {},
   "outputs": [
    {
     "data": {
      "text/html": [
       "<i>Table length=5</i>\n",
       "<table id=\"table140450450760016\" class=\"table-striped table-bordered table-condensed\">\n",
       "<thead><tr><th>date_UT</th><th>date_local</th><th>T_internal</th><th>T_Sky</th><th>Frequency</th><th>magnitude</th><th>ZP</th><th>jd</th><th>Time</th><th>moon_alt</th><th>moon_phase</th><th>sun_alt</th></tr></thead>\n",
       "<thead><tr><th></th><th></th><th></th><th></th><th></th><th></th><th></th><th></th><th></th><th></th><th></th><th></th></tr></thead>\n",
       "<thead><tr><th>str23</th><th>str23</th><th>float64</th><th>float64</th><th>float64</th><th>float64</th><th>float64</th><th>float64</th><th>object</th><th>float64</th><th>float64</th><th>float64</th></tr></thead>\n",
       "<tr><td>2022-05-01T00:00:31.000</td><td>2022-05-01T02:00:31.000</td><td>18.5</td><td>4.1</td><td>43.95</td><td>15.99</td><td>20.1</td><td>2459700.500358796</td><td>2022-05-01T00:00:31.000</td><td>-35.51326315063141</td><td>0.9892756162259293</td><td>-34.51276139609294</td></tr>\n",
       "<tr><td>2022-05-01T00:01:01.000</td><td>2022-05-01T02:01:01.000</td><td>18.5</td><td>4.0</td><td>38.8</td><td>16.13</td><td>20.1</td><td>2459700.5007060184</td><td>2022-05-01T00:01:01.000</td><td>-35.52027304901654</td><td>0.9892574092415708</td><td>-34.517832190262354</td></tr>\n",
       "<tr><td>2022-05-01T00:01:31.000</td><td>2022-05-01T02:01:31.000</td><td>18.5</td><td>3.9</td><td>33.04</td><td>16.3</td><td>20.1</td><td>2459700.5010532406</td><td>2022-05-01T00:01:31.000</td><td>-35.52705624980562</td><td>0.9892391877068188</td><td>-34.52266012930278</td></tr>\n",
       "<tr><td>2022-05-01T00:02:01.000</td><td>2022-05-01T02:02:01.000</td><td>18.5</td><td>3.9</td><td>30.16</td><td>16.4</td><td>20.1</td><td>2459700.501400463</td><td>2022-05-01T00:02:01.000</td><td>-35.53361266440513</td><td>0.9892209516871773</td><td>-34.527245147902065</td></tr>\n",
       "<tr><td>2022-05-01T00:02:31.000</td><td>2022-05-01T02:02:31.000</td><td>18.5</td><td>3.8</td><td>27.87</td><td>16.49</td><td>20.1</td><td>2459700.501747685</td><td>2022-05-01T00:02:31.000</td><td>-35.53994220890166</td><td>0.9892027012663284</td><td>-34.53158718400306</td></tr>\n",
       "</table>"
      ],
      "text/plain": [
       "<Table length=5>\n",
       "        date_UT                date_local       ...       sun_alt      \n",
       "                                                ...                    \n",
       "         str23                   str23          ...       float64      \n",
       "----------------------- ----------------------- ... -------------------\n",
       "2022-05-01T00:00:31.000 2022-05-01T02:00:31.000 ...  -34.51276139609294\n",
       "2022-05-01T00:01:01.000 2022-05-01T02:01:01.000 ... -34.517832190262354\n",
       "2022-05-01T00:01:31.000 2022-05-01T02:01:31.000 ...  -34.52266012930278\n",
       "2022-05-01T00:02:01.000 2022-05-01T02:02:01.000 ... -34.527245147902065\n",
       "2022-05-01T00:02:31.000 2022-05-01T02:02:31.000 ...  -34.53158718400306"
      ]
     },
     "execution_count": 25,
     "metadata": {},
     "output_type": "execute_result"
    }
   ],
   "source": [
    "t[0:5]"
   ]
  },
  {
   "cell_type": "code",
   "execution_count": 26,
   "id": "f2584bf3",
   "metadata": {},
   "outputs": [],
   "source": [
    "# writing Table to ecsv file\n",
    "# New file with Moon information and new time columns\n",
    "fileout  = filename.replace('dat','ecsv')\n",
    "t.write(fileout, overwrite=True)  "
   ]
  },
  {
   "cell_type": "code",
   "execution_count": 27,
   "id": "b1348bbd",
   "metadata": {},
   "outputs": [
    {
     "name": "stdout",
     "output_type": "stream",
     "text": [
      "stars1_2022-05.ecsv\n"
     ]
    }
   ],
   "source": [
    "print(fileout)"
   ]
  },
  {
   "cell_type": "code",
   "execution_count": null,
   "id": "5c25b810",
   "metadata": {},
   "outputs": [],
   "source": []
  }
 ],
 "metadata": {
  "kernelspec": {
   "display_name": "py37",
   "language": "python",
   "name": "py37"
  },
  "language_info": {
   "codemirror_mode": {
    "name": "ipython",
    "version": 3
   },
   "file_extension": ".py",
   "mimetype": "text/x-python",
   "name": "python",
   "nbconvert_exporter": "python",
   "pygments_lexer": "ipython3",
   "version": "3.7.7"
  }
 },
 "nbformat": 4,
 "nbformat_minor": 5
}
